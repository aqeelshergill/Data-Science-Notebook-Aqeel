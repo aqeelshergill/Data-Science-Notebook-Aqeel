{
  "metadata": {
    "kernelspec": {
      "name": "python",
      "display_name": "Python (Pyodide)",
      "language": "python"
    },
    "language_info": {
      "codemirror_mode": {
        "name": "python",
        "version": 3
      },
      "file_extension": ".py",
      "mimetype": "text/x-python",
      "name": "python",
      "nbconvert_exporter": "python",
      "pygments_lexer": "ipython3",
      "version": "3.8"
    }
  },
  "nbformat_minor": 5,
  "nbformat": 4,
  "cells": [
    {
      "id": "26ad390d-3b74-438f-8927-3a1f370ab347",
      "cell_type": "markdown",
      "source": "# Data Science Tools and Ecosystem",
      "metadata": {}
    },
    {
      "id": "58a0af51-2ad1-41e7-994e-c417ef3d676c",
      "cell_type": "markdown",
      "source": "In this notebook, Data Science Tools and Ecosystem are summarized.",
      "metadata": {}
    },
    {
      "id": "3c56bec7-7a11-426d-a31c-d0793868fd3d",
      "cell_type": "markdown",
      "source": "Some of the popular languages that Data Scientists use are:",
      "metadata": {}
    },
    {
      "id": "4df859d9-e8c8-4e9d-a465-c7bf18cf9a00",
      "cell_type": "markdown",
      "source": "1. Python\n2. R\n3. C++",
      "metadata": {}
    },
    {
      "id": "a24671ee-ffdc-4a89-8c75-a36d35cfe803",
      "cell_type": "markdown",
      "source": "Some of the commonly used libraries used by Data Scientists include:",
      "metadata": {}
    },
    {
      "id": "d65afa58-5a4e-4726-9df3-27b5a72b6b78",
      "cell_type": "markdown",
      "source": "1. Pandas\n2. Numpy\n3. Matplotlib",
      "metadata": {}
    },
    {
      "id": "213378f7-e904-4918-bfd5-41328c485d8e",
      "cell_type": "markdown",
      "source": "|Data Science Tools|\n|------------------|\n|Programming Languages|\n|Data Science Libraries and Frameworks|\n|Data Visualization Tools|",
      "metadata": {
        "scrolled": true
      }
    },
    {
      "id": "fe14671e-c83d-47dc-a699-4e8c1be8526f",
      "cell_type": "markdown",
      "source": "### Below are a few examples of evaluating arithmetic expressions in Python",
      "metadata": {}
    },
    {
      "id": "6ea324aa-3aa9-416c-b78e-d576a9643773",
      "cell_type": "code",
      "source": "#This a simple arithmetic expression to mutiply then add integers",
      "metadata": {
        "trusted": true
      },
      "outputs": [],
      "execution_count": 5
    },
    {
      "id": "ed5d303c-3661-4b2e-80d0-8cdcb8b04616",
      "cell_type": "code",
      "source": "(3*4)+5",
      "metadata": {
        "trusted": true
      },
      "outputs": [
        {
          "execution_count": 8,
          "output_type": "execute_result",
          "data": {
            "text/plain": "17"
          },
          "metadata": {}
        }
      ],
      "execution_count": 8
    },
    {
      "id": "dcfde7e8-794f-4829-842d-9ac75a5c439a",
      "cell_type": "code",
      "source": "#This will convert 200 minutes to hours by diving by 60",
      "metadata": {
        "trusted": true
      },
      "outputs": [],
      "execution_count": 9
    },
    {
      "id": "ccd678f8-c01b-4080-9d55-df11874f871c",
      "cell_type": "code",
      "source": "hours=200/60",
      "metadata": {
        "trusted": true
      },
      "outputs": [],
      "execution_count": 10
    },
    {
      "id": "e2dc8c5d-3b3d-4dba-9ef3-26801e1ee39a",
      "cell_type": "code",
      "source": "print(hours)",
      "metadata": {
        "trusted": true
      },
      "outputs": [
        {
          "name": "stdout",
          "output_type": "stream",
          "text": "3.3333333333333335\n"
        }
      ],
      "execution_count": 11
    },
    {
      "id": "b855de07-d142-4c28-a0f2-c7fac7ca92dc",
      "cell_type": "markdown",
      "source": "**Objectives:**",
      "metadata": {}
    },
    {
      "id": "d1a946f2-7b18-4e7f-a534-dcf8ff0922da",
      "cell_type": "markdown",
      "source": "- List popular languages for Data Science.\n- Understand basic arithmetic operations in Python.\n- Learn how to convert time units (e.g., minutes to hours).\n- Gain experience working with variables and expressions in code.\n- Explore basic data science tools and their functionalities.",
      "metadata": {}
    },
    {
      "id": "dd608c09-6337-457a-af94-b2126f83ed3d",
      "cell_type": "markdown",
      "source": "## Author",
      "metadata": {}
    },
    {
      "id": "8002efd6-8e4a-4ad9-aa6a-755d062c7091",
      "cell_type": "markdown",
      "source": "Aqeel Gill",
      "metadata": {}
    },
    {
      "id": "1c57509f-a014-465c-bf4b-14f3bde8f4c2",
      "cell_type": "code",
      "source": "",
      "metadata": {
        "trusted": true
      },
      "outputs": [],
      "execution_count": null
    }
  ]
}